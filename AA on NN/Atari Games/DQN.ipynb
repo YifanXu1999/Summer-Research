{
  "nbformat": 4,
  "nbformat_minor": 0,
  "metadata": {
    "colab": {
      "name": "Deepmind DQN",
      "provenance": [],
      "collapsed_sections": [],
      "machine_shape": "hm"
    },
    "kernelspec": {
      "name": "python3",
      "display_name": "Python 3"
    },
    "accelerator": "GPU"
  },
  "cells": [
    {
      "cell_type": "code",
      "metadata": {
        "id": "6D2EHx8hGdXq",
        "colab_type": "code",
        "colab": {}
      },
      "source": [
        "import gym\n",
        "from gym import spaces\n",
        "import matplotlib.pyplot as plt\n",
        "import math\n",
        "import random\n",
        "import numpy as np\n",
        "import torch\n",
        "import torch.nn as nn\n",
        "import torch.optim as optim\n",
        "import torch.nn.functional as F\n",
        "import cv2\n",
        "from collections import deque\n",
        "from IPython.display import clear_output\n",
        "from gym.spaces.box import Box"
      ],
      "execution_count": null,
      "outputs": []
    },
    {
      "cell_type": "code",
      "metadata": {
        "id": "ZYqvTBsMKNov",
        "colab_type": "code",
        "colab": {}
      },
      "source": [
        "# Cuda device\n",
        "device = torch.device(\"cuda:0\" if torch.cuda.is_available() else \"cpu\")"
      ],
      "execution_count": null,
      "outputs": []
    },
    {
      "cell_type": "code",
      "metadata": {
        "id": "0n0yYU1BvJ8o",
        "colab_type": "code",
        "colab": {}
      },
      "source": [
        "\n",
        "def create_atari_env(env_id):\n",
        "    env = gym.make(env_id)\n",
        "    env = AtariRescale84x84(env)\n",
        "    env = NormalizedEnv(env)\n",
        "    env = EpisodicLifeEnv(env)\n",
        "    env = MaxAndSkipEnv(env)\n",
        "    return env\n",
        "\n",
        "\n",
        "\n",
        "\n",
        "def process_frame84(frame):\n",
        "    frame = frame[34:34 + 160, :160]\n",
        "    frame = cv2.resize(frame, (84, 84))\n",
        "    frame = frame.mean(2)\n",
        "    frame = frame.astype(np.float32)\n",
        "    frame *= (1.0 / 255.0)\n",
        "    return frame\n",
        "\n",
        "\n",
        "\n",
        "class EpisodicLifeEnv(gym.Wrapper):\n",
        "    def __init__(self, env=None):\n",
        "        \"\"\"Make end-of-life == end-of-episode, but only reset on true game over.\n",
        "        Done by DeepMind for the DQN and co. since it helps value estimation.\n",
        "        \"\"\"\n",
        "        super(EpisodicLifeEnv, self).__init__(env)\n",
        "        self.lives = 0\n",
        "        self.was_real_done = True\n",
        "        self.was_real_reset = False\n",
        "\n",
        "    def step(self, action):\n",
        "        obs, reward, done, info = self.env.step(action)\n",
        "        self.was_real_done = done\n",
        "        # check current lives, make loss of life terminal,\n",
        "        # then update lives to handle bonus lives\n",
        "        lives = self.env.unwrapped.ale.lives()\n",
        "        if lives < self.lives and lives > 0:\n",
        "            # for Qbert somtimes we stay in lives == 0 condtion for a few frames\n",
        "            # so its important to keep lives > 0, so that we only reset once\n",
        "            # the environment advertises done.\n",
        "            done = True\n",
        "        self.lives = lives\n",
        "        return obs, reward, done, info\n",
        "\n",
        "    def reset(self):\n",
        "        \"\"\"Reset only when lives are exhausted.\n",
        "        This way all states are still reachable even though lives are episodic,\n",
        "        and the learner need not know about any of this behind-the-scenes.\n",
        "        \"\"\"\n",
        "        if self.was_real_done:\n",
        "            obs = self.env.reset()\n",
        "            self.was_real_reset = True\n",
        "        else:\n",
        "            # no-op step to advance from terminal/lost life state\n",
        "            obs, _, _, _ = self.env.step(0)\n",
        "            self.was_real_reset = False\n",
        "        self.lives = self.env.unwrapped.ale.lives()\n",
        "        return obs\n",
        "\n",
        "\n",
        "class MaxAndSkipEnv(gym.Wrapper):\n",
        "    def __init__(self, env=None, skip=4):\n",
        "        \"\"\"Return only every `skip`-th frame\"\"\"\n",
        "        super(MaxAndSkipEnv, self).__init__(env)\n",
        "        # most recent raw observations (for max pooling across time steps)\n",
        "        self._obs_buffer = deque(maxlen=2)\n",
        "        self._skip = skip\n",
        "\n",
        "    def step(self, action):\n",
        "        total_reward = 0.0\n",
        "        done = None\n",
        "        for _ in range(self._skip):\n",
        "            obs, reward, done, info = self.env.step(action)\n",
        "            self._obs_buffer.append(obs)\n",
        "            total_reward += reward\n",
        "            if done:\n",
        "                break\n",
        "\n",
        "        max_frame = np.max(np.stack(self._obs_buffer), axis=0)\n",
        "\n",
        "        return max_frame, total_reward, done, info\n",
        "\n",
        "    def reset(self):\n",
        "        \"\"\"Clear past frame buffer and init. to first obs. from inner env.\"\"\"\n",
        "        self._obs_buffer.clear()\n",
        "        obs = self.env.reset()\n",
        "        self._obs_buffer.append(obs)\n",
        "        return obs\n",
        "  \n",
        "\n",
        "class AtariRescale84x84(gym.ObservationWrapper):\n",
        "\n",
        "    def __init__(self, env=None):\n",
        "        super(AtariRescale84x84, self).__init__(env)\n",
        "        self.observation_space = Box(0.0, 1.0, [1, 84, 84])\n",
        "\n",
        "    def observation(self, observation):\n",
        "        return process_frame84(observation) \n",
        "\n",
        "\n",
        "\n",
        "\n",
        "class NormalizedEnv(gym.ObservationWrapper):\n",
        "\n",
        "    def __init__(self, env=None):\n",
        "        super(NormalizedEnv, self).__init__(env)\n",
        "        self.state_mean = 0\n",
        "        self.state_std = 0\n",
        "        self.alpha = 0.9999\n",
        "        self.num_steps = 0\n",
        "\n",
        "    def observation(self, observation):\n",
        "        self.num_steps += 1\n",
        "        self.state_mean = self.state_mean * self.alpha + \\\n",
        "            observation.mean() * (1 - self.alpha)\n",
        "        self.state_std = self.state_std * self.alpha + \\\n",
        "            observation.std() * (1 - self.alpha)\n",
        "\n",
        "        unbiased_mean = self.state_mean / (1 - pow(self.alpha, self.num_steps))\n",
        "        unbiased_std = self.state_std / (1 - pow(self.alpha, self.num_steps))\n",
        "        ret = (observation - unbiased_mean) / (unbiased_std + 1e-8)\n",
        "        return np.expand_dims(ret, axis=0)\n",
        "\n",
        "\n",
        "class NormalizedState:\n",
        "\n",
        "    def __init__(self):\n",
        "        self.state_mean = 0\n",
        "        self.state_std = 0\n",
        "        self.alpha = 0.9999\n",
        "        self.num_steps = 0\n",
        "\n",
        "    def observation(self, observation):\n",
        "        self.num_steps += 1\n",
        "        self.state_mean = self.state_mean * self.alpha + \\\n",
        "            observation.mean() * (1 - self.alpha)\n",
        "        self.state_std = self.state_std * self.alpha + \\\n",
        "            observation.std() * (1 - self.alpha)\n",
        "\n",
        "        unbiased_mean = self.state_mean / (1 - pow(self.alpha, self.num_steps))\n",
        "        unbiased_std = self.state_std / (1 - pow(self.alpha, self.num_steps))\n",
        "        ret = (observation - unbiased_mean) / (unbiased_std + 1e-8)\n",
        "        return np.expand_dims(ret, axis=0)"
      ],
      "execution_count": null,
      "outputs": []
    },
    {
      "cell_type": "code",
      "metadata": {
        "id": "9in1Rc8RUyz9",
        "colab_type": "code",
        "colab": {}
      },
      "source": [
        "env_id = 'PongNoFrameskip-v4'\n",
        "env = create_atari_env(env_id)\n",
        "num_actions = env.action_space.n"
      ],
      "execution_count": null,
      "outputs": []
    },
    {
      "cell_type": "code",
      "metadata": {
        "id": "RBuBFdNxB5jv",
        "colab_type": "code",
        "colab": {}
      },
      "source": [
        "class DqnCNN(nn.Module):\n",
        "\n",
        "  def __init__(self, input_space, num_actions):\n",
        "    '''\n",
        "    Architecture will be described in the paper, where\n",
        "    The input to the neural network consits of 84 * 84 * 4 image\n",
        "    The first hidden layer convolves 16 8x8 filters with stride 4\n",
        "    The second hidden layer convolves 32 4x4 filters with stride 2\n",
        "    The final hidden layer is fully connected and consists of 256 units\n",
        "    '''\n",
        "    super(DqnCNN, self).__init__()\n",
        "    self.num_actions = num_actions\n",
        "    self.conv_layers = nn.Sequential(\n",
        "        nn.Conv2d(4, 16, 8, 4),\n",
        "        nn.BatchNorm2d(16),\n",
        "        nn.ReLU(),\n",
        "        nn.Conv2d(16, 32, 4, 2),\n",
        "        nn.BatchNorm2d(32),\n",
        "        nn.ReLU()\n",
        "    )\n",
        "    # Output of conv layers will be size of 2592 (32 * 9 * 9)\n",
        "    self.fc_layers = nn.Sequential(\n",
        "        nn.Linear(2592, 256),\n",
        "        nn.ReLU(),\n",
        "        nn.Linear(256, num_actions)\n",
        "    )\n",
        "\n",
        "  def forward(self, x):\n",
        "      # Convert input to an tensor with size (n, 4, 84, 84)\n",
        "      x = torch.FloatTensor(x).view(-1, 4, 84, 84).to(device)\n",
        "      x = self.conv_layers(x)\n",
        "      x = self.fc_layers(x.view(-1, 2592))\n",
        "      return x\n",
        "  \n",
        "  def act(self, x, eps):\n",
        "    if random.random() > eps:\n",
        "      q_values = self.forward(x)\n",
        "      action = q_values.max(1)[1]\n",
        "    else:\n",
        "      action = random.randint(0, 5)\n",
        "    return int(action)"
      ],
      "execution_count": null,
      "outputs": []
    },
    {
      "cell_type": "code",
      "metadata": {
        "id": "nUqtiqXGfUtN",
        "colab_type": "code",
        "colab": {}
      },
      "source": [
        "class ReplayBuffer:\n",
        "\n",
        "  def __init__(self, max_size):\n",
        "    self.storage = []\n",
        "    self.max_size = max_size\n",
        "    self.next_idx = 0\n",
        "  \n",
        "  def push(self, state, action, reward, next_state, done):\n",
        "    data = (state, action, reward, next_state, done)\n",
        "    if self.max_size > len(self.storage):\n",
        "      self.storage.append(data)\n",
        "    else:\n",
        "      self.storage[self.next_idx % self.max_size] = data\n",
        "    self.next_idx += 1\n",
        "  \n",
        "  def __len__(self):\n",
        "    return len(self.storage)\n",
        "  def sample(self, batch_size):\n",
        "    indexs = [random.randrange(self.__len__()) for _ in range(batch_size)]\n",
        "    states, actions, rewards, next_states, dones = [], [], [], [], []\n",
        "    for i in indexs:\n",
        "      state, action, reward, next_state, done = self.storage[i]\n",
        "      states.append(state)\n",
        "      actions.append(action)\n",
        "      rewards.append(reward)\n",
        "      next_states.append(next_state)\n",
        "      dones.append(done)\n",
        "    return states, actions, rewards, next_states, dones"
      ],
      "execution_count": null,
      "outputs": []
    },
    {
      "cell_type": "code",
      "metadata": {
        "id": "OKXL_jQ3u_E4",
        "colab_type": "code",
        "colab": {}
      },
      "source": [
        "def gradient_descent(replay_buffer, model, optimizer, batch_size):\n",
        "  states, actions, rewards, next_states, dones = replay_buffer.sample(batch_size)\n",
        "  states      = torch.FloatTensor(np.float32(states))\n",
        "  next_states = torch.FloatTensor(np.float32(next_states))\n",
        "  rewards = torch.FloatTensor(rewards).to(device)\n",
        "  dones = torch.FloatTensor(dones).to(device)\n",
        "  actions     = torch.LongTensor(actions).to(device)\n",
        "  q_values = model(states)\n",
        "  # q_values for the selected actions\n",
        "  q_values          = q_values.gather(1, actions.unsqueeze(1)).squeeze(1)\n",
        "  next_q_values = model(next_states).data\n",
        "  y = rewards + gamma * next_q_values.max(1)[0] * (1 - done)\n",
        "  loss = (y - q_values).pow(2).mean()\n",
        "\n",
        "  optimizer.zero_grad()\n",
        "  loss.backward()\n",
        "  optimizer.step()\n",
        "\n",
        "  return loss\n"
      ],
      "execution_count": null,
      "outputs": []
    },
    {
      "cell_type": "code",
      "metadata": {
        "id": "vXlHVbYgDZqO",
        "colab_type": "code",
        "colab": {}
      },
      "source": [
        "model = DqnCNN(env.observation_space.shape, env.action_space.n).cuda()\n",
        "optimizer = torch.optim.Adam(model.parameters(), lr=0.0001)\n",
        "replay_buffer_size = 10000\n",
        "replay_buffer = ReplayBuffer(replay_buffer_size)"
      ],
      "execution_count": null,
      "outputs": []
    },
    {
      "cell_type": "code",
      "metadata": {
        "id": "Tv98cBCTfGQr",
        "colab_type": "code",
        "colab": {
          "base_uri": "https://localhost:8080/",
          "height": 295
        },
        "outputId": "73f9e635-b21f-4abe-b6bf-33dfbd780cd6"
      },
      "source": [
        "epsilon_by_frame = lambda frame_idx: 0.2 + (8) * math.exp(-1. * frame_idx / 3000)"
      ],
      "execution_count": null,
      "outputs": [
        {
          "output_type": "execute_result",
          "data": {
            "text/plain": [
              "[<matplotlib.lines.Line2D at 0x7feca6e7ccf8>]"
            ]
          },
          "metadata": {
            "tags": []
          },
          "execution_count": 28
        },
        {
          "output_type": "display_data",
          "data": {
            "image/png": "[encoded data removed]",
            "text/plain": [
              "<Figure size 432x288 with 1 Axes>"
            ]
          },
          "metadata": {
            "tags": [],
            "needs_background": "light"
          }
        }
      ]
    },
    {
      "cell_type": "code",
      "metadata": {
        "id": "loduURFuuagt",
        "colab_type": "code",
        "colab": {
          "base_uri": "https://localhost:8080/",
          "height": 336
        },
        "outputId": "a3f0bac4-707f-49d1-834a-7fdd7e0224b2"
      },
      "source": [
        "num_frames = 2000000\n",
        "batch_size = 32\n",
        "gamma = 0.99\n",
        "\n",
        "losses = []\n",
        "all_rewards = []\n",
        "episode_reward = 0\n",
        "state = env.reset()\n",
        "for frame_idx in range(1, num_frames + 1):\n",
        "  epsilon = epsilon_by_frame(frame_idx)\n",
        "  action = model.act(state, epsilon)\n",
        "  next_state, reward, done, _ = env.step(action)\n",
        "  replay_buffer.push(state, action, reward, next_state, done)\n",
        "  state = next_state\n",
        "  episode_reward += reward\n",
        "  \n",
        "  if done:\n",
        "      state = env.reset()\n",
        "      all_rewards.append(episode_reward)\n",
        "      episode_reward = 0\n",
        "\n",
        "      \n",
        "  if len(replay_buffer) >= 3000:\n",
        "      loss = gradient_descent(replay_buffer, model, optimizer, 32)\n",
        "      losses.append(loss.data)\n"
      ],
      "execution_count": null,
      "outputs": [
        {
          "output_type": "display_data",
          "data": {
            "image/png": "[encoded data removed]",
            "text/plain": [
              "<Figure size 1440x360 with 2 Axes>"
            ]
          },
          "metadata": {
            "tags": [],
            "needs_background": "light"
          }
        }
      ]
    }
  ]
}